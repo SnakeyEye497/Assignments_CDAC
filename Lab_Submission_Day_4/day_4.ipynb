{
 "cells": [
  {
   "cell_type": "code",
   "execution_count": 10,
   "metadata": {},
   "outputs": [
    {
     "data": {
      "text/plain": [
       "'4.10.0'"
      ]
     },
     "execution_count": 10,
     "metadata": {},
     "output_type": "execute_result"
    }
   ],
   "source": [
    "import cv2 as cv #import openCv\n",
    "cv.__version__"
   ]
  },
  {
   "cell_type": "code",
   "execution_count": 9,
   "metadata": {},
   "outputs": [
    {
     "ename": "error",
     "evalue": "OpenCV(4.10.0) D:\\a\\opencv-python\\opencv-python\\opencv\\modules\\highgui\\src\\window.cpp:973: error: (-215:Assertion failed) size.width>0 && size.height>0 in function 'cv::imshow'\n",
     "output_type": "error",
     "traceback": [
      "\u001b[1;31m---------------------------------------------------------------------------\u001b[0m",
      "\u001b[1;31merror\u001b[0m                                     Traceback (most recent call last)",
      "Cell \u001b[1;32mIn[9], line 7\u001b[0m\n\u001b[0;32m      4\u001b[0m     cv\u001b[38;5;241m.\u001b[39mdestroyAllWindows()   \u001b[38;5;66;03m# destroy image window\u001b[39;00m\n\u001b[0;32m      6\u001b[0m imge\u001b[38;5;241m=\u001b[39mcv\u001b[38;5;241m.\u001b[39mimread(\u001b[38;5;124m\"\u001b[39m\u001b[38;5;124mdownload.jpg\u001b[39m\u001b[38;5;124m\"\u001b[39m) \u001b[38;5;66;03m#load image using cv2 as a numpy array\u001b[39;00m\n\u001b[1;32m----> 7\u001b[0m \u001b[43mshowcase\u001b[49m\u001b[43m(\u001b[49m\u001b[38;5;124;43m\"\u001b[39;49m\u001b[38;5;124;43mimage\u001b[39;49m\u001b[38;5;124;43m\"\u001b[39;49m\u001b[43m,\u001b[49m\u001b[43mimge\u001b[49m\u001b[43m)\u001b[49m\n",
      "Cell \u001b[1;32mIn[9], line 2\u001b[0m, in \u001b[0;36mshowcase\u001b[1;34m(text, img)\u001b[0m\n\u001b[0;32m      1\u001b[0m \u001b[38;5;28;01mdef\u001b[39;00m \u001b[38;5;21mshowcase\u001b[39m(text,img):\n\u001b[1;32m----> 2\u001b[0m     \u001b[43mcv\u001b[49m\u001b[38;5;241;43m.\u001b[39;49m\u001b[43mimshow\u001b[49m\u001b[43m(\u001b[49m\u001b[43mtext\u001b[49m\u001b[43m,\u001b[49m\u001b[43mimg\u001b[49m\u001b[43m)\u001b[49m   \u001b[38;5;66;03m# show loaded image\u001b[39;00m\n\u001b[0;32m      3\u001b[0m     cv\u001b[38;5;241m.\u001b[39mwaitKey(\u001b[38;5;241m0\u001b[39m)            \u001b[38;5;66;03m# way for the key to close \u001b[39;00m\n\u001b[0;32m      4\u001b[0m     cv\u001b[38;5;241m.\u001b[39mdestroyAllWindows()\n",
      "\u001b[1;31merror\u001b[0m: OpenCV(4.10.0) D:\\a\\opencv-python\\opencv-python\\opencv\\modules\\highgui\\src\\window.cpp:973: error: (-215:Assertion failed) size.width>0 && size.height>0 in function 'cv::imshow'\n"
     ]
    }
   ],
   "source": [
    "def showcase(text,img):\n",
    "    cv.imshow(text,img)   # show loaded image\n",
    "    cv.waitKey(0)            # way for the key to close \n",
    "    cv.destroyAllWindows()   # destroy image window\n",
    "\n",
    "imge=cv.imread(\"download.jpg\") #load image using cv2 as a numpy array\n",
    "showcase(\"image\",imge)"
   ]
  },
  {
   "cell_type": "code",
   "execution_count": 18,
   "metadata": {},
   "outputs": [
    {
     "data": {
      "text/plain": [
       "(1405, 933, 3)"
      ]
     },
     "execution_count": 18,
     "metadata": {},
     "output_type": "execute_result"
    }
   ],
   "source": [
    "imge.shape"
   ]
  },
  {
   "cell_type": "code",
   "execution_count": 5,
   "metadata": {},
   "outputs": [],
   "source": [
    "# Basic image oprations using opencv\n",
    "resize=cv.resize(imge,(500,500))\n",
    "showcase(\"resize image\",resize)"
   ]
  },
  {
   "cell_type": "code",
   "execution_count": 6,
   "metadata": {},
   "outputs": [],
   "source": [
    "#convert image into grayscale \n",
    "gray_image=cv.cvtColor(resize,cv.COLOR_BGR2GRAY)\n",
    "showcase(\"gray images\",gray_image)"
   ]
  },
  {
   "cell_type": "code",
   "execution_count": 7,
   "metadata": {},
   "outputs": [],
   "source": [
    "#Crop image \n",
    "crop_img=resize[100:400,100:300]\n",
    "showcase(\"crop image\",crop_img)"
   ]
  },
  {
   "cell_type": "code",
   "execution_count": 8,
   "metadata": {},
   "outputs": [],
   "source": [
    "#rotate image\n",
    "(h,w)=resize.shape[:2]\n",
    "center=(w//2,h//2)\n",
    "M=cv.getRotationMatrix2D(center,37,1.0)\n",
    "rotated=cv.warpAffine(resize,M,(w,h))\n",
    "showcase(\"Ratated image\",rotated)"
   ]
  },
  {
   "cell_type": "code",
   "execution_count": 9,
   "metadata": {},
   "outputs": [],
   "source": [
    "#rotate image using rotate function \n",
    "showcase(\"Rotated image using function\",cv.rotate(resize,cv.ROTATE_90_CLOCKWISE))\n"
   ]
  },
  {
   "cell_type": "code",
   "execution_count": 10,
   "metadata": {},
   "outputs": [],
   "source": [
    "#bluring technique-Gaussin Blurring\n",
    "blurred_img=cv.GaussianBlur(resize,(5,5),0)\n",
    "showcase(\"Gausin Blurred image\",blurred_img)\n"
   ]
  },
  {
   "cell_type": "code",
   "execution_count": 28,
   "metadata": {},
   "outputs": [],
   "source": [
    "#bluring technique-median blurring\n",
    "medians=cv.medianBlur(resize,5)\n",
    "showcase(\"medain blur\",medians)"
   ]
  },
  {
   "cell_type": "code",
   "execution_count": 29,
   "metadata": {},
   "outputs": [],
   "source": [
    "#bluring technique-bilateral blurring \n",
    "bila=cv.bilateralFilter(resize,9,75,75)\n",
    "showcase(\"bilateral image\",bila)"
   ]
  },
  {
   "cell_type": "code",
   "execution_count": 30,
   "metadata": {},
   "outputs": [],
   "source": [
    "# bluring technique-average blurring\n",
    "avg=cv.blur(resize,(5,5))\n",
    "showcase(\"Average Bluring\",avg)"
   ]
  },
  {
   "cell_type": "code",
   "execution_count": 31,
   "metadata": {},
   "outputs": [],
   "source": [
    "#image thresholding technique-Binary thresold\n",
    "_,thresh_img=cv.threshold(gray_image,127,255,cv.THRESH_BINARY)\n",
    "showcase(\"Binary tech\",thresh_img)"
   ]
  },
  {
   "cell_type": "code",
   "execution_count": 15,
   "metadata": {},
   "outputs": [],
   "source": [
    "#image thresholding technique-Binary thresold Inverse\n",
    "_,thresh_img=cv.threshold(gray_image,127,255,cv.THRESH_BINARY_INV)\n",
    "showcase(\" Binary Inverse Threshold tech\",thresh_img)"
   ]
  },
  {
   "cell_type": "code",
   "execution_count": 18,
   "metadata": {},
   "outputs": [],
   "source": [
    "#image thresholding technique-Truncate thresold\n",
    "_,thresh_img=cv.threshold(gray_image,127,255,cv.THRESH_TRUNC)\n",
    "showcase(\" Truncate  Threshold tech\",thresh_img)"
   ]
  },
  {
   "cell_type": "code",
   "execution_count": 17,
   "metadata": {},
   "outputs": [],
   "source": [
    "#image thresholding technique-Zero thresold\n",
    "_,thresh_img=cv.threshold(gray_image,127,255,cv.THRESH_TOZERO)\n",
    "showcase(\" Zero Threshold tech\",thresh_img)"
   ]
  },
  {
   "cell_type": "code",
   "execution_count": 19,
   "metadata": {},
   "outputs": [],
   "source": [
    "#image thresholding technique-Zero thresold Inverse\n",
    "_,thresh_img=cv.threshold(gray_image,127,255,cv.THRESH_TOZERO_INV)\n",
    "showcase(\" Inverse  Zero Threshold tech\",thresh_img)"
   ]
  },
  {
   "cell_type": "code",
   "execution_count": 23,
   "metadata": {},
   "outputs": [],
   "source": [
    "#image thresholding technique-Zero thresold Inverse\n",
    "_,thresh_img=cv.threshold(gray_image,127,255,cv.THRESH_TOZERO_INV)\n",
    "showcase(\"Inverse Threshold tech\",thresh_img)"
   ]
  },
  {
   "cell_type": "code",
   "execution_count": 26,
   "metadata": {},
   "outputs": [],
   "source": [
    "#image thresholding technique-Adpative threshold\n",
    "thresh_img=cv.adaptiveThreshold(gray_image,255,cv.ADAPTIVE_THRESH_GAUSSIAN_C,cv.THRESH_BINARY,11,2)\n",
    "showcase(\"adaptive hreshold tech\",thresh_img)"
   ]
  },
  {
   "cell_type": "code",
   "execution_count": 27,
   "metadata": {},
   "outputs": [],
   "source": [
    "#edge detection\n",
    "edges=cv.Canny(resize,200,255)\n",
    "showcase(\"Canne edge\",edges)"
   ]
  },
  {
   "cell_type": "code",
   "execution_count": 32,
   "metadata": {},
   "outputs": [],
   "source": []
  }
 ],
 "metadata": {
  "kernelspec": {
   "display_name": "Python 3",
   "language": "python",
   "name": "python3"
  },
  "language_info": {
   "codemirror_mode": {
    "name": "ipython",
    "version": 3
   },
   "file_extension": ".py",
   "mimetype": "text/x-python",
   "name": "python",
   "nbconvert_exporter": "python",
   "pygments_lexer": "ipython3",
   "version": "3.10.11"
  }
 },
 "nbformat": 4,
 "nbformat_minor": 2
}
